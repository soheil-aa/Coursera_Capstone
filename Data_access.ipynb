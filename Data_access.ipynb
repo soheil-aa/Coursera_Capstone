{
  "nbformat": 4,
  "nbformat_minor": 0,
  "metadata": {
    "colab": {
      "name": "Data_access.ipynb",
      "provenance": [],
      "collapsed_sections": [],
      "authorship_tag": "ABX9TyP5UqVH01baIDiV4HAl4XdZ",
      "include_colab_link": true
    },
    "kernelspec": {
      "display_name": "Python 3",
      "name": "python3"
    }
  },
  "cells": [
    {
      "cell_type": "markdown",
      "metadata": {
        "id": "view-in-github",
        "colab_type": "text"
      },
      "source": [
        "<a href=\"https://colab.research.google.com/github/soheil-aa/Coursera_Capstone/blob/main/Data_access.ipynb\" target=\"_parent\"><img src=\"https://colab.research.google.com/assets/colab-badge.svg\" alt=\"Open In Colab\"/></a>"
      ]
    },
    {
      "cell_type": "code",
      "metadata": {
        "id": "MGRLKdPur2_w"
      },
      "source": [
        "import numpy as np\n",
        "import pandas as pd\n",
        "\n",
        "# io\n",
        "import json\n",
        "\n",
        "# visialization\n",
        "import matplotlib.pyplot as plt\n",
        "import folium\n",
        "\n",
        "# !pip install dropbox\n",
        "import dropbox"
      ],
      "execution_count": 8,
      "outputs": []
    },
    {
      "cell_type": "code",
      "metadata": {
        "id": "UXvz7bX03wgu"
      },
      "source": [
        " dbx_token = 'cQKH-Z5PtiYAAAAAAAAAAW57VEjUlqveW-47cjpCOCbxdgSLj6uAVDLtOd8ru15I'\r\n",
        " dbx = dropbox.Dropbox(dbx_token)"
      ],
      "execution_count": 9,
      "outputs": []
    },
    {
      "cell_type": "code",
      "metadata": {
        "id": "k_6vWrT_E9x6"
      },
      "source": [
        "md, res = dbx.files_download(\"/UK_EEZ_PIPELINES.GEOjson\")"
      ],
      "execution_count": 10,
      "outputs": []
    },
    {
      "cell_type": "code",
      "metadata": {
        "id": "anSJRMVXLtJh"
      },
      "source": [
        "uk_eez_piplines_json = json.loads( res.content, strict=False )"
      ],
      "execution_count": 11,
      "outputs": []
    },
    {
      "cell_type": "code",
      "metadata": {
        "id": "9BYEhnJm2MTY"
      },
      "source": [
        "# coordinates of a geo-location in the uk\n",
        "uk_latlng = (55, 0)"
      ],
      "execution_count": 12,
      "outputs": []
    },
    {
      "cell_type": "code",
      "metadata": {
        "id": "wOZRrQZ8r9SA"
      },
      "source": [
        "uk_map_fig = folium.Figure(width = 600, height = 300)\n",
        "uk_map = folium.Map(location = uk_latlng, zoom_start = 4)\n",
        "\n",
        "folium.GeoJson(uk_eez_piplines_json, name=\"geojson\").add_to(uk_map)\n",
        "\n",
        "uk_map_fig.add_child(uk_map)\n",
        "uk_map_fig"
      ],
      "execution_count": 6,
      "outputs": []
    },
    {
      "cell_type": "code",
      "metadata": {
        "id": "8qUU40Wu6bR7"
      },
      "source": [
        ""
      ],
      "execution_count": null,
      "outputs": []
    }
  ]
}